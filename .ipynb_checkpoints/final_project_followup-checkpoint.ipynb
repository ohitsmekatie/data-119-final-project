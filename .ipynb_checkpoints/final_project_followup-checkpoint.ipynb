{
 "cells": [
  {
   "cell_type": "code",
   "execution_count": 29,
   "metadata": {},
   "outputs": [
    {
     "name": "stdout",
     "output_type": "stream",
     "text": [
      "mean\t45.82\n",
      "std\t14.11\n",
      "min\t15.0\n",
      "max\t133.0\n",
      "\n",
      "mean\t44.97\n",
      "std\t13.56\n",
      "min\t13.0\n",
      "max\t101.0\n",
      "\n"
     ]
    }
   ],
   "source": [
    "'''\n",
    "Katie Sipos\n",
    "Dec. 2020\n",
    "\n",
    "My first analysis compared 2017 and 2019 air quality in Allegheny County and didn't yield any super interesting or telling results. This is a follow up to that project to compare air quality data \n",
    "in Allegheny County vs a similar city county in Nashville, TN.\n",
    "\n",
    "'''\n",
    "\n",
    "import pandas as pd \n",
    "import csv \n",
    "import statistics as stats \n",
    "import matplotlib.pyplot as plt\n",
    "\n",
    "def category_count(series, category_string):\n",
    "    '''a function that takes a series and a category string and counts how many times that string appears in that data series'''\n",
    "    count_of_category = 0\n",
    "    # a for loop to look through the dataset for a given string. if it finds that string it increases the count of that category \n",
    "    for index in series:\n",
    "        if index == category_string:\n",
    "            count_of_category += 1\n",
    "    return count_of_category\n",
    "\n",
    "def descriptive_stats(series):\n",
    "    ''' a function that takes in a series and performs basic statistics on it. only prints out mean, standard dev, min, and max.'''\n",
    "    # only use mean, std, min, and max w/ describe for readability. removed the noise of quartiles \n",
    "    stats = series.describe().loc[[\"mean\", \"std\", \"min\", \"max\"]]\n",
    "    # round the values to the nearest 2 for readability \n",
    "    stats = round(stats, 2)\n",
    "    # workaround to print this without the datatype and name and AQI heading \n",
    "    print(stats.to_csv(header=None,sep=\"\\t\"))\n",
    "\n",
    "def main(): \n",
    "# all the variables \n",
    "\n",
    "    nash_aqi_2019 = pd.read_csv(\"nashville_aqi_2019.csv\")\n",
    "    nash_aqi_2017 = pd.read_csv(\"nashville_aqi_2017.csv\")\n",
    "\n",
    "    nash_2017_category = nash_aqi_2017.loc[1::][\"Category\"]\n",
    "    nash_2019_category = nash_aqi_2019.loc[1::][\"Category\"]\n",
    "\n",
    "    nash_2017_aqi = nash_aqi_2017.loc[1::][\"AQI\"]\n",
    "    nash_2019_aqi = nash_aqi_2019.loc[1::][\"AQI\"]\n",
    "\n",
    "    # stats_2019 = nash_aqi_2019.describe().loc[['mean', 'std', 'min', 'max']]\n",
    "    # stats_2019 = round(stats_2019, 2)\n",
    "\n",
    "    # stats_2017 = nash_aqi_2017.describe().loc[['mean', 'std', 'min', 'max']]\n",
    "    # stats_2017 = round(stats_2017,2)\n",
    "\n",
    "    good = \"Good\"\n",
    "    moderate = \"Moderate\"\n",
    "    unhealthy_sensitive = \"Unhealthy for Sensitive Groups\"\n",
    "    unhealthy = \"Unhealthy\"\n",
    "    very_unhealthy = \"Very Unhealthy\"\n",
    "\n",
    "\n",
    "    descriptive_stats(nash_2017_aqi)\n",
    "    descriptive_stats(nash_2019_aqi)\n",
    "    \n",
    "    \n",
    "if __name__ == \"__main__\":\n",
    "    main()"
   ]
  },
  {
   "cell_type": "code",
   "execution_count": null,
   "metadata": {},
   "outputs": [],
   "source": []
  },
  {
   "cell_type": "code",
   "execution_count": null,
   "metadata": {},
   "outputs": [],
   "source": []
  }
 ],
 "metadata": {
  "kernelspec": {
   "display_name": "Python 3",
   "language": "python",
   "name": "python3"
  },
  "language_info": {
   "codemirror_mode": {
    "name": "ipython",
    "version": 3
   },
   "file_extension": ".py",
   "mimetype": "text/x-python",
   "name": "python",
   "nbconvert_exporter": "python",
   "pygments_lexer": "ipython3",
   "version": "3.8.3"
  }
 },
 "nbformat": 4,
 "nbformat_minor": 4
}
